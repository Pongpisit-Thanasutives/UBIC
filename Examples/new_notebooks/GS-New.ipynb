{
 "cells": [
  {
   "cell_type": "code",
   "execution_count": 1,
   "id": "5c8736f7-3fcd-49e0-9367-6a3627c14b26",
   "metadata": {},
   "outputs": [
    {
     "name": "stdout",
     "output_type": "stream",
     "text": [
      "Sklearn's version: 1.2.2\n",
      "Complete best-subset solvers are not installed.\n"
     ]
    }
   ],
   "source": [
    "%matplotlib inline\n",
    "import matplotlib.pyplot as plt\n",
    "import warnings; warnings.filterwarnings(\"ignore\")\n",
    "\n",
    "import os\n",
    "import sys; sys.path.append('../../')\n",
    "import numpy as np\n",
    "from numpy.random import default_rng\n",
    "\n",
    "import scipy.io as sio\n",
    "import pysindy as ps\n",
    "from PDE_FIND import build_linear_system, print_pde, TrainSTRidge, measure_pce\n",
    "from best_subset import *\n",
    "from frols import frols\n",
    "from UBIC import *\n",
    "from solvel0 import solvel0\n",
    "from findiff import FinDiff\n",
    "import sgolay2"
   ]
  },
  {
   "cell_type": "markdown",
   "id": "5ddb3bc6",
   "metadata": {},
   "source": [
    "#### Load data"
   ]
  },
  {
   "cell_type": "code",
   "execution_count": 2,
   "id": "0e366b04-cdf3-40e8-9cfc-b0e0c25ea165",
   "metadata": {},
   "outputs": [],
   "source": [
    "n = 128\n",
    "# data = sio.loadmat(f\"../../../PDE-FIND/Datasets/reaction_diffusion_3d_{n}.mat\")\n",
    "data = sio.loadmat(f\"../../Datasets/reaction_diffusion_3d_{n}.mat\")\n",
    "\n",
    "u_sol = (data['usol']).real\n",
    "v_sol = (data['vsol']).real\n",
    "x = (data['x'][0]).real\n",
    "y = (data['y'][0]).real\n",
    "z = (data['z'][0]).real\n",
    "t = (data['t'][0]).real\n",
    "\n",
    "del data\n",
    "\n",
    "dt = t[1] - t[0]\n",
    "dx = x[1] - x[0]\n",
    "dy = y[1] - y[0]\n",
    "dz = z[1] - z[0]\n",
    "\n",
    "# Ground truth\n",
    "ground_indices_u = (0, 1, 5, 9, 15, 23)\n",
    "ground_coeff_u = np.array([0.014, -0.014, -1.000, 0.020, 0.020, 0.020])\n",
    "ground_indices_v = (2, 5, 10, 16, 24)\n",
    "ground_coeff_v = np.array([-0.067, 1.0, 0.01, 0.01, 0.01])"
   ]
  },
  {
   "cell_type": "code",
   "execution_count": 3,
   "id": "51a0a7f1-5302-46c7-9974-0466b1de2282",
   "metadata": {},
   "outputs": [],
   "source": [
    "time = t\n",
    "u = np.zeros((n, n, n, len(time), 2))\n",
    "u[:, :, :, :, 0] = u_sol\n",
    "u[:, :, :, :, 1] = v_sol\n",
    "\n",
    "# Odd polynomial terms in (u, v), up to second order derivatives in (u, v)\n",
    "library_functions = [\n",
    "    lambda x: x,\n",
    "    lambda x: x * x * x,\n",
    "    lambda x, y: x * y * y,\n",
    "    lambda x, y: x * x * y,\n",
    "]\n",
    "library_function_names = [\n",
    "    lambda x: x,\n",
    "    lambda x: x + x + x,\n",
    "    lambda x, y: x + y + y,\n",
    "    lambda x, y: x + x + y,\n",
    "]\n",
    "\n",
    "# Need to define the 2D spatial grid before calling the library\n",
    "X, Y, Z, T = np.meshgrid(x, y, z, time, indexing=\"ij\")\n",
    "spatiotemporal_grid = np.asarray([X, Y, Z, T])\n",
    "spatiotemporal_grid = np.transpose(spatiotemporal_grid, axes=[1, 2, 3, 4, 0])\n",
    "weak_lib = ps.WeakPDELibrary(\n",
    "    library_functions=library_functions,\n",
    "    function_names=library_function_names,\n",
    "    derivative_order=2,\n",
    "    spatiotemporal_grid=spatiotemporal_grid,\n",
    "    is_uniform=True,\n",
    "    include_interaction=False,\n",
    "    include_bias=True,\n",
    "    periodic=True,\n",
    "    K=10000,\n",
    "    cache=True\n",
    ")"
   ]
  },
  {
   "cell_type": "markdown",
   "id": "c7189a62",
   "metadata": {},
   "source": [
    "#### Add noise"
   ]
  },
  {
   "cell_type": "code",
   "execution_count": 4,
   "id": "7ad8b85d-f21a-491d-ad42-d1c604f86f66",
   "metadata": {},
   "outputs": [],
   "source": [
    "np.random.seed(100)\n",
    "noise_lv = 0.1\n",
    "domain_noise = 0.01*np.abs(noise_lv)*np.std(u)*np.random.randn(*u.shape)\n",
    "u = u + domain_noise"
   ]
  },
  {
   "cell_type": "markdown",
   "id": "874e4593",
   "metadata": {},
   "source": [
    "#### Denoise"
   ]
  },
  {
   "cell_type": "code",
   "execution_count": 5,
   "id": "13716122",
   "metadata": {},
   "outputs": [
    {
     "name": "stderr",
     "output_type": "stream",
     "text": [
      "100%|███████████████████████████████████████████████████████████████████████████████████████████████████████████████████| 100/100 [00:17<00:00,  5.84it/s]\n",
      "100%|███████████████████████████████████████████████████████████████████████████████████████████████████████████████████| 100/100 [00:15<00:00,  6.33it/s]\n"
     ]
    }
   ],
   "source": [
    "denoise = True\n",
    "if denoise: \n",
    "    un = u[:, :, :, :, 0]\n",
    "    vn = u[:, :, :, :, 1]\n",
    "\n",
    "    div = 30\n",
    "    ws = max(un.shape[:-2])//div; po = 5\n",
    "    if ws%2 == 0: ws -=1\n",
    "\n",
    "    nun = np.zeros_like(un)\n",
    "    for i in trange(un.shape[-1]):\n",
    "        for j in range(un.shape[-2]):\n",
    "            nun[:, :, j, i] = sgolay2.SGolayFilter2(window_size=ws, poly_order=po)(un[:, :, j, i])\n",
    "    un = nun.copy()\n",
    "    del nun\n",
    "    \n",
    "    nvn = np.zeros_like(vn)\n",
    "    for i in trange(vn.shape[-1]):\n",
    "        for j in range(vn.shape[-2]):\n",
    "            nvn[:, :, j, i] = sgolay2.SGolayFilter2(window_size=ws, poly_order=po)(vn[:, :, j, i])\n",
    "    vn = nvn.copy()\n",
    "    del nvn\n",
    "    \n",
    "    dim = 10\n",
    "\n",
    "    un = un.reshape(-1, len(t))\n",
    "    uun, sigmaun, vun = np.linalg.svd(un, full_matrices=False); vun = vun.T\n",
    "    un = uun[:,0: dim].dot(np.diag(sigmaun[0:dim]).dot(vun[:,0:dim].T))\n",
    "    un = un.reshape(len(x), len(y), len(z), len(t))\n",
    "\n",
    "    vn = vn.reshape(-1, len(t))\n",
    "    uvn, sigmavn, vvn = np.linalg.svd(vn, full_matrices=False); vvn = vvn.T\n",
    "    vn = uvn[:,0: dim].dot(np.diag(sigmavn[0:dim]).dot(vvn[:,0:dim].T))\n",
    "    vn = vn.reshape(len(x), len(y), len(z), len(t))\n",
    "\n",
    "    u = np.stack([un, vn], axis=-1)\n",
    "    del un, vn"
   ]
  },
  {
   "cell_type": "markdown",
   "id": "4add67a5",
   "metadata": {},
   "source": [
    "#### Applying best-subset regression on the weak formulation"
   ]
  },
  {
   "cell_type": "code",
   "execution_count": 6,
   "id": "65df608d",
   "metadata": {},
   "outputs": [
    {
     "name": "stdout",
     "output_type": "stream",
     "text": [
      "(x0)' = 0.014 1 + -0.014 x0 + -1.000 x0x1x1 + 0.020 x0_33 + 0.020 x0_22 + 0.020 x0_11\n",
      "(x1)' = -0.067 x1 + 1.000 x0x1x1 + 0.010 x1_33 + 0.010 x1_22 + 0.010 x1_11\n"
     ]
    }
   ],
   "source": [
    "optimizer = ps.SR3(threshold=1e-5, normalize_columns=True, max_iter=100)\n",
    "model = ps.SINDy(feature_library=weak_lib, optimizer=optimizer, cache=True)\n",
    "model.fit(u)\n",
    "model.print()"
   ]
  },
  {
   "cell_type": "code",
   "execution_count": 7,
   "id": "1f872310",
   "metadata": {},
   "outputs": [],
   "source": [
    "X_pre, y_pre = model.feature_library.cached_xp_full[0], model.cached_x_dot"
   ]
  },
  {
   "cell_type": "code",
   "execution_count": 8,
   "id": "19450be1",
   "metadata": {},
   "outputs": [
    {
     "name": "stderr",
     "output_type": "stream",
     "text": [
      "100%|█████████████████████████████████████████████████████████████████████████████████████████████████████████████████████| 12/12 [00:05<00:00,  2.34it/s]\n",
      "100%|█████████████████████████████████████████████████████████████████████████████████████████████████████████████████████| 12/12 [00:05<00:00,  2.11it/s]\n"
     ]
    }
   ],
   "source": [
    "max_complexity = 12\n",
    "\n",
    "target_index = 0\n",
    "frols_coeffs,selected_inds_list,_,_,_ = frols(y_pre[:, target_index:target_index+1], X_pre, \n",
    "                                              max_nonzeros=max_complexity)\n",
    "selected_inds_list = set(selected_inds_list)\n",
    "ever = reduce(np.union1d, selected_inds_list)\n",
    "_, bs = brute_force_all_subsets(X_pre[:, ever], \n",
    "                                y_pre[:, target_index:target_index+1], \n",
    "                                max_support_size=max_complexity)\n",
    "best_subsets_u = [tuple(ever[list(b)]) for b in bs]\n",
    "del bs\n",
    "\n",
    "target_index = 1\n",
    "frols_coeffs,selected_inds_list,_,_,_ = frols(y_pre[:, target_index:target_index+1], X_pre, \n",
    "                                              max_nonzeros=max_complexity)\n",
    "selected_inds_list = set(selected_inds_list)\n",
    "ever = reduce(np.union1d, selected_inds_list)\n",
    "_, bs = brute_force_all_subsets(X_pre[:, ever], \n",
    "                                y_pre[:, target_index:target_index+1], \n",
    "                                max_support_size=max_complexity)\n",
    "best_subsets_v = [tuple(ever[list(b)]) for b in bs]\n",
    "del bs"
   ]
  },
  {
   "cell_type": "code",
   "execution_count": 9,
   "id": "d563c662",
   "metadata": {},
   "outputs": [],
   "source": [
    "u_pre, v_pre = y_pre[:, 0:1], y_pre[:, 1:2]\n",
    "del y_pre"
   ]
  },
  {
   "cell_type": "markdown",
   "id": "6db6f1aa",
   "metadata": {},
   "source": [
    "#### Model selection by the UBIC (Algorithm 1)"
   ]
  },
  {
   "cell_type": "code",
   "execution_count": 10,
   "id": "fca396c4",
   "metadata": {},
   "outputs": [
    {
     "name": "stdout",
     "output_type": "stream",
     "text": [
      "0.1405621016031394\n",
      "5 <---> 5 inf\n",
      "5 <---> 5 inf\n"
     ]
    },
    {
     "data": {
      "text/plain": [
       "(1.5109742329,\n",
       " array([-180200.43969704, -180883.69055088, -200523.50743016,\n",
       "        -247306.71545731, -269733.93875845, -313895.64541323,\n",
       "        -313877.92508741, -313867.59590704, -313854.79014005,\n",
       "        -313589.96265588, -313570.30152984, -313552.51309187]),\n",
       " 5)"
      ]
     },
     "execution_count": 10,
     "metadata": {},
     "output_type": "execute_result"
    }
   ],
   "source": [
    "tau = 3; per = 75 # 85\n",
    "scale = np.log(len(u_pre))\n",
    "# scale = 1\n",
    "\n",
    "post_means, b_bics, b_uns = baye_uncertainties(best_subsets_u, (X_pre, u_pre), u_type='cv1', take_sqrt=True)\n",
    "predictions = X_pre@post_means\n",
    "\n",
    "b_bics = np.array(b_bics)\n",
    "complexities = np.array([len(bs) for bs in best_subsets_u])\n",
    "d_complexities = complexities[decreasing_values_indices(b_bics)]\n",
    "d_bics = b_bics[decreasing_values_indices(b_bics)]\n",
    "thres = np.percentile(np.abs(np.diff(d_bics)/(np.diff(d_complexities)*d_bics[:-1])), per)\n",
    "# thres = 0.02\n",
    "print(thres)\n",
    "\n",
    "lower_bounds = []\n",
    "for k, efi in enumerate(best_subsets_u):\n",
    "    com = len(efi)\n",
    "    assert com == np.count_nonzero(post_means[:, k:k+1])\n",
    "    # lower_bound = 2*log_like_value(predictions[:, k:k+1], u_pre)/np.log(len(u_pre))-com\n",
    "    lower_bound = 2*log_like_value(predictions[:, k:k+1], u_pre)-np.log(len(u_pre))*com\n",
    "    lower_bounds.append(lower_bound)\n",
    "    \n",
    "last_lam = np.log10(max(lower_bounds/(b_uns*scale)))\n",
    "delta = last_lam/tau\n",
    "now_lam = last_lam-delta\n",
    "last_ubic = UBIC(b_bics, b_uns, len(u_pre), hyp=10**last_lam, scale=scale)\n",
    "last_bc = np.argmin(last_ubic)\n",
    "while now_lam > 0:\n",
    "    now_ubic = UBIC(b_bics, b_uns, len(u_pre), hyp=10**now_lam, scale=scale)\n",
    "    now_bc = np.argmin(now_ubic)\n",
    "    \n",
    "    diff_com = now_bc-last_bc\n",
    "    diff_bic = b_bics[now_bc]-b_bics[last_bc]\n",
    "    imp = abs(diff_bic/(b_bics[last_bc]*diff_com))\n",
    "    print(min(last_bc, now_bc), '<--->', max(last_bc, now_bc), np.nan_to_num(imp, nan=np.inf))\n",
    "\n",
    "    if (diff_com > 0 and (diff_bic > 0 or imp < thres)) or \\\n",
    "        (diff_com < 0 and diff_bic > 0 and imp > thres):\n",
    "        break\n",
    "    \n",
    "    last_lam = now_lam\n",
    "    now_lam = last_lam-delta\n",
    "    last_ubic = now_ubic\n",
    "    last_bc = now_bc\n",
    "    \n",
    "best_bc = last_bc\n",
    "if abs((b_bics[last_bc]-b_bics[last_bc-1])/b_bics[last_bc-1]) < thres:\n",
    "    best_bc = best_bc - 1\n",
    "\n",
    "last_lam = round(last_lam, 10)\n",
    "last_lam_d_u = last_lam\n",
    "last_ubic_d_u = last_ubic\n",
    "last_bc_d_u = last_bc\n",
    "uns_u = b_uns\n",
    "last_lam, last_ubic, last_bc"
   ]
  },
  {
   "cell_type": "code",
   "execution_count": 11,
   "id": "bcd05278",
   "metadata": {},
   "outputs": [
    {
     "name": "stdout",
     "output_type": "stream",
     "text": [
      "0.1297782066570574\n",
      "4 <---> 4 inf\n",
      "4 <---> 4 inf\n"
     ]
    },
    {
     "data": {
      "text/plain": [
       "(1.5165994171,\n",
       " array([-161476.93732078, -135538.41125771, -187541.88014486,\n",
       "        -245539.29536653, -326340.82859364, -325986.73461381,\n",
       "        -325978.78883856, -325928.5795217 , -325909.24781013,\n",
       "        -325889.7950485 , -325867.97965758, -325846.03711818]),\n",
       " 4)"
      ]
     },
     "execution_count": 11,
     "metadata": {},
     "output_type": "execute_result"
    }
   ],
   "source": [
    "tau = 3; per = 75 # 85\n",
    "scale = np.log(len(v_pre))\n",
    "# scale = 1\n",
    "\n",
    "post_means, b_bics, b_uns = baye_uncertainties(best_subsets_v, (X_pre, v_pre), u_type='cv1', take_sqrt=True)\n",
    "predictions = X_pre@post_means\n",
    "\n",
    "b_bics = np.array(b_bics)\n",
    "complexities = np.array([len(bs) for bs in best_subsets_v])\n",
    "d_complexities = complexities[decreasing_values_indices(b_bics)]\n",
    "d_bics = b_bics[decreasing_values_indices(b_bics)]\n",
    "thres = np.percentile(np.abs(np.diff(d_bics)/(np.diff(d_complexities)*d_bics[:-1])), per)\n",
    "# thres = 0.02\n",
    "print(thres)\n",
    "\n",
    "lower_bounds = []\n",
    "for k, efi in enumerate(best_subsets_v):\n",
    "    com = len(efi)\n",
    "    assert com == np.count_nonzero(post_means[:, k:k+1])\n",
    "    # lower_bound = 2*log_like_value(predictions[:, k:k+1], v_pre)/np.log(len(v_pre))-com\n",
    "    lower_bound = 2*log_like_value(predictions[:, k:k+1], v_pre)-np.log(len(v_pre))*com\n",
    "    lower_bounds.append(lower_bound)\n",
    "\n",
    "last_lam = np.log10(max(lower_bounds/(b_uns*scale)))\n",
    "delta = last_lam/tau\n",
    "now_lam = last_lam-delta\n",
    "last_ubic = UBIC(b_bics, b_uns, len(v_pre), hyp=10**last_lam, scale=scale)\n",
    "last_bc = np.argmin(last_ubic)\n",
    "while now_lam > 0:\n",
    "    now_ubic = UBIC(b_bics, b_uns, len(v_pre), hyp=10**now_lam, scale=scale)\n",
    "    now_bc = np.argmin(now_ubic)\n",
    "    \n",
    "    diff_com = now_bc-last_bc\n",
    "    diff_bic = b_bics[now_bc]-b_bics[last_bc]\n",
    "    imp = abs(diff_bic/(b_bics[last_bc]*diff_com))\n",
    "    print(min(last_bc, now_bc), '<--->', max(last_bc, now_bc), np.nan_to_num(imp, nan=np.inf))\n",
    "\n",
    "    if (diff_com > 0 and (diff_bic > 0 or imp < thres)) or \\\n",
    "        (diff_com < 0 and diff_bic > 0 and imp > thres):\n",
    "        break\n",
    "    \n",
    "    last_lam = now_lam\n",
    "    now_lam = last_lam-delta\n",
    "    last_ubic = now_ubic\n",
    "    last_bc = now_bc\n",
    "    \n",
    "best_bc = last_bc\n",
    "if abs((b_bics[last_bc]-b_bics[last_bc-1])/b_bics[last_bc-1]) < thres:\n",
    "    best_bc = best_bc - 1\n",
    "\n",
    "last_lam = round(last_lam, 10)\n",
    "last_lam_d_v = last_lam\n",
    "last_ubic_d_v = last_ubic\n",
    "last_bc_d_v = last_bc\n",
    "uns_v = b_uns\n",
    "last_lam, last_ubic, last_bc"
   ]
  },
  {
   "cell_type": "code",
   "execution_count": 12,
   "id": "e421b70a",
   "metadata": {},
   "outputs": [
    {
     "data": {
      "image/png": "[encoded data removed]",
      "text/plain": [
       "<Figure size 350x262.5 with 1 Axes>"
      ]
     },
     "metadata": {},
     "output_type": "display_data"
    }
   ],
   "source": [
    "assert list(map(len, best_subsets_u)) == list(map(len, best_subsets_v))\n",
    "complexities = list(map(len, best_subsets_u))\n",
    "with plt.style.context(['science', 'grid']):\n",
    "    fig, ax = plt.subplots()\n",
    "    ax.plot(complexities, last_ubic_d_u, 'o-', c='blue', markerfacecolor='none', label=\"$u_t,\\, \\lambda_{\\\\textrm{U}}=$ \"+str(round(last_lam_d_u, 2)))\n",
    "    ax.plot(complexities, last_ubic_d_v, 's--', c='green', markerfacecolor='none', label=\"$v_t,\\, \\lambda_{\\\\textrm{U}}=$ \"+str(round(last_lam_d_v, 2)))\n",
    "    ax.set_xticks(complexities)\n",
    "    ax.set_ylabel(\"$\\\\textrm{UBIC}_{\\\\Gamma}(\\\\xi^{k}, 10^{\\\\lambda})$\", fontsize=12)\n",
    "    ax.set_xlabel(\"Support sizes ($s_{k}$)\", fontsize=12)\n",
    "\n",
    "    plt.annotate('min$\\checkmark$', fontsize=16, c='blue', \n",
    "             xy=(complexities[last_bc_d_u], last_ubic_d_u[last_bc_d_u]), \n",
    "             xytext=(complexities[last_bc_d_u]+0.5, last_ubic_d_u[last_bc_d_u]+0.5e5), \n",
    "             arrowprops={'arrowstyle': '->', 'linestyle':'-', 'color':'blue'})\n",
    "    \n",
    "    plt.annotate('min$\\checkmark$', fontsize=16, c='green', \n",
    "             xy=(complexities[last_bc_d_v], last_ubic_d_v[last_bc_d_v]), \n",
    "             xytext=(complexities[last_bc_d_v], last_ubic_d_v[last_bc_d_v]+0.925e5), \n",
    "             arrowprops={'arrowstyle': '->', 'linestyle':'--', 'color':'green'})\n",
    "    \n",
    "    plt.legend()\n",
    "    plt.show()"
   ]
  },
  {
   "cell_type": "markdown",
   "id": "52bd7b8e",
   "metadata": {},
   "source": [
    "#### Percent coefficient error"
   ]
  },
  {
   "cell_type": "code",
   "execution_count": 13,
   "id": "fafbbe39",
   "metadata": {},
   "outputs": [
    {
     "name": "stdout",
     "output_type": "stream",
     "text": [
      "0.052939621927262794 0.062332034201513564\n",
      "0.004973842331496227 0.0021060909996147297\n"
     ]
    }
   ],
   "source": [
    "assert np.alltrue(best_subsets_v[last_bc_d_v] == ground_indices_v) and np.alltrue(best_subsets_u[last_bc_d_u] == ground_indices_u)\n",
    "errs_u = measure_pce(np.linalg.lstsq(X_pre[:, ground_indices_u], u_pre, rcond=None)[0].flatten(), \n",
    "                     ground_coeff_u)\n",
    "errs_v = measure_pce(np.linalg.lstsq(X_pre[:, ground_indices_v], v_pre, rcond=None)[0].flatten(), \n",
    "                     ground_coeff_v)\n",
    "print(errs_u.mean(), errs_u.std())\n",
    "print(errs_v.mean(), errs_v.std())"
   ]
  }
 ],
 "metadata": {
  "kernelspec": {
   "display_name": "Python [conda env:pysindy_latest]",
   "language": "python",
   "name": "conda-env-pysindy_latest-py"
  },
  "language_info": {
   "codemirror_mode": {
    "name": "ipython",
    "version": 3
   },
   "file_extension": ".py",
   "mimetype": "text/x-python",
   "name": "python",
   "nbconvert_exporter": "python",
   "pygments_lexer": "ipython3",
   "version": "3.10.12"
  },
  "widgets": {
   "application/vnd.jupyter.widget-state+json": {
    "state": {},
    "version_major": 2,
    "version_minor": 0
   }
  }
 },
 "nbformat": 4,
 "nbformat_minor": 5
}
